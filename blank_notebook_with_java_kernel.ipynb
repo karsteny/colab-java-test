{
  "nbformat": 4,
  "nbformat_minor": 0,
  "metadata": {
    "colab": {
      "name": "blank_notebook_with_java_kernel.ipynb",
      "provenance": [],
      "include_colab_link": true
    },
    "kernelspec": {
      "name": "java",
      "display_name": "java"
    },
    "language_info": {
      "name": "java"
    }
  },
  "cells": [
    {
      "cell_type": "markdown",
      "metadata": {
        "id": "view-in-github",
        "colab_type": "text"
      },
      "source": [
        "<a href=\"https://colab.research.google.com/github/karsteny/colab-java-test/blob/main/blank_notebook_with_java_kernel.ipynb\" target=\"_parent\"><img src=\"https://colab.research.google.com/assets/colab-badge.svg\" alt=\"Open In Colab\"/></a>"
      ]
    },
    {
      "cell_type": "markdown",
      "source": [
        "#### Blank Jupyter Notebook with the Java Kernel (IJava) Specified in \"kernelspec\""
      ],
      "metadata": {
        "id": "dGY48ugljcyG"
      }
    }
  ]
}